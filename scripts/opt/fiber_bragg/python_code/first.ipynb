{
 "cells": [
  {
   "cell_type": "code",
   "execution_count": 1,
   "id": "356bac91-4f4a-45de-9f74-7e7c47192716",
   "metadata": {},
   "outputs": [],
   "source": [
    "import numpy as np\n",
    "import pandas as pd\n",
    "import matplotlib.pyplot as plt\n",
    "%matplotlib tk"
   ]
  },
  {
   "cell_type": "code",
   "execution_count": 2,
   "id": "deee0223-85d6-479b-a076-1f91a09cfb6e",
   "metadata": {},
   "outputs": [
    {
     "data": {
      "text/html": [
       "<div>\n",
       "<style scoped>\n",
       "    .dataframe tbody tr th:only-of-type {\n",
       "        vertical-align: middle;\n",
       "    }\n",
       "\n",
       "    .dataframe tbody tr th {\n",
       "        vertical-align: top;\n",
       "    }\n",
       "\n",
       "    .dataframe thead th {\n",
       "        text-align: right;\n",
       "    }\n",
       "</style>\n",
       "<table border=\"1\" class=\"dataframe\">\n",
       "  <thead>\n",
       "    <tr style=\"text-align: right;\">\n",
       "      <th></th>\n",
       "      <th>Wavelength(A)</th>\n",
       "      <th>Level(A)</th>\n",
       "    </tr>\n",
       "  </thead>\n",
       "  <tbody>\n",
       "    <tr>\n",
       "      <th>0</th>\n",
       "      <td>1480.00</td>\n",
       "      <td>1.976000e-06</td>\n",
       "    </tr>\n",
       "    <tr>\n",
       "      <th>1</th>\n",
       "      <td>1480.32</td>\n",
       "      <td>1.461000e-07</td>\n",
       "    </tr>\n",
       "    <tr>\n",
       "      <th>2</th>\n",
       "      <td>1480.64</td>\n",
       "      <td>-5.780000e-10</td>\n",
       "    </tr>\n",
       "    <tr>\n",
       "      <th>3</th>\n",
       "      <td>1480.96</td>\n",
       "      <td>1.319000e-06</td>\n",
       "    </tr>\n",
       "    <tr>\n",
       "      <th>4</th>\n",
       "      <td>1481.28</td>\n",
       "      <td>1.977000e-06</td>\n",
       "    </tr>\n",
       "  </tbody>\n",
       "</table>\n",
       "</div>"
      ],
      "text/plain": [
       "   Wavelength(A)      Level(A)\n",
       "0        1480.00  1.976000e-06\n",
       "1        1480.32  1.461000e-07\n",
       "2        1480.64 -5.780000e-10\n",
       "3        1480.96  1.319000e-06\n",
       "4        1481.28  1.977000e-06"
      ]
     },
     "execution_count": 2,
     "metadata": {},
     "output_type": "execute_result"
    }
   ],
   "source": [
    "df1=pd.read_csv('../data/first/WaveData20231205_000.csv',skiprows=27)\n",
    "df2=pd.read_csv('../data/first/WaveData20231205_001.csv',skiprows=27)\n",
    "df1.head()"
   ]
  },
  {
   "cell_type": "code",
   "execution_count": 3,
   "id": "3f6e3605-2405-4ac5-af60-f1c240e6f9a6",
   "metadata": {},
   "outputs": [],
   "source": [
    "lambda1,power1=df1['Wavelength(A)'],df1['Level(A)']\n",
    "lambda2,power2=df2['Wavelength(A)'],df2['Level(A)']"
   ]
  },
  {
   "cell_type": "code",
   "execution_count": 4,
   "id": "078721c9-8812-40fd-83a1-1ea534d60871",
   "metadata": {},
   "outputs": [
    {
     "name": "stderr",
     "output_type": "stream",
     "text": [
      "/home/kelvin/anaconda3/envs/kelvin/lib/python3.9/site-packages/pandas/core/arraylike.py:402: RuntimeWarning: invalid value encountered in log10\n",
      "  result = getattr(ufunc, method)(*inputs, **kwargs)\n"
     ]
    }
   ],
   "source": [
    "fig,ax=plt.subplots()\n",
    "ax.plot(lambda1,10*np.log10(power1),'*-',label='Input')\n",
    "ax.set_xlabel(r'$\\lambda (nm)$',fontsize=14)\n",
    "ax.set_ylabel(r'Input Power (dBm)',fontsize=14)\n",
    "plt.grid(True)\n",
    "plt.legend()\n",
    "plt.savefig('../plots/input_spectrum.png',dpi=300)"
   ]
  },
  {
   "cell_type": "code",
   "execution_count": 5,
   "id": "da249b48-eddb-46c3-9c80-c9722f0e61ae",
   "metadata": {},
   "outputs": [
    {
     "data": {
      "text/plain": [
       "<matplotlib.legend.Legend at 0x7fbdbea83a30>"
      ]
     },
     "execution_count": 5,
     "metadata": {},
     "output_type": "execute_result"
    }
   ],
   "source": [
    "fig,ax=plt.subplots()\n",
    "#ax.plot(lambda1,10*np.log10(power1/1e-3),'*-',label='direct')\n",
    "ax.plot(lambda2,10*np.log10(power2),label='bragg')\n",
    "ax.set_xlabel(r'$\\lambda (nm)$',fontsize=14)\n",
    "ax.set_ylabel(r'Spectrum (dBm)',fontsize=14)\n",
    "plt.grid(True)\n",
    "plt.legend()\n",
    "#plt.savefig('../plots/spectrum.png',dpi=300)"
   ]
  },
  {
   "cell_type": "code",
   "execution_count": 6,
   "id": "087fcd46-6b22-4b6d-a6e8-f0a82c9a3afe",
   "metadata": {},
   "outputs": [
    {
     "data": {
      "text/plain": [
       "<matplotlib.legend.Legend at 0x7fbdbe2027c0>"
      ]
     },
     "execution_count": 6,
     "metadata": {},
     "output_type": "execute_result"
    }
   ],
   "source": [
    "fig,ax=plt.subplots()\n",
    "#ax.plot(lambda1,10*np.log(power1/1e-3),'*-',label='direct')\n",
    "ax.plot(lambda2,10*np.log10(power2),label='bragg')\n",
    "ax.set_xlabel(r'$\\lambda (nm)$',fontsize=14)\n",
    "ax.set_ylabel(r'Spectrum (dBm)',fontsize=14)\n",
    "plt.grid(True)\n",
    "plt.legend()"
   ]
  },
  {
   "cell_type": "code",
   "execution_count": 7,
   "id": "9ebbfc6c-ed60-4d62-b650-e81867b830a9",
   "metadata": {},
   "outputs": [],
   "source": [
    "fig,ax=plt.subplots()\n",
    "ax.plot(lambda2,10*np.log10(power2/1e-3)-10*np.log10(power1/1e-3),'-*',label='bragg-direct')\n",
    "ax.set_xlabel(r'$\\lambda (nm)$',fontsize=14)\n",
    "ax.set_ylabel(r'Spectrum (dBm)',fontsize=14)\n",
    "ax.set_xlim(1540,1560)\n",
    "ax.set_ylim(-70,0)\n",
    "\n",
    "plt.grid(True)\n",
    "plt.legend()\n",
    "plt.savefig('../plots/spectrum_zoommed.png',dpi=300)"
   ]
  },
  {
   "cell_type": "markdown",
   "id": "03b6ad1e-7ded-4709-9b9e-e11ecac981c5",
   "metadata": {},
   "source": [
    "## zoomed"
   ]
  },
  {
   "cell_type": "code",
   "execution_count": 8,
   "id": "de6a09ba-5de6-4c25-9b35-c4bd8845f4d7",
   "metadata": {},
   "outputs": [
    {
     "data": {
      "text/html": [
       "<div>\n",
       "<style scoped>\n",
       "    .dataframe tbody tr th:only-of-type {\n",
       "        vertical-align: middle;\n",
       "    }\n",
       "\n",
       "    .dataframe tbody tr th {\n",
       "        vertical-align: top;\n",
       "    }\n",
       "\n",
       "    .dataframe thead th {\n",
       "        text-align: right;\n",
       "    }\n",
       "</style>\n",
       "<table border=\"1\" class=\"dataframe\">\n",
       "  <thead>\n",
       "    <tr style=\"text-align: right;\">\n",
       "      <th></th>\n",
       "      <th>Wavelength(A)</th>\n",
       "      <th>Level(A)</th>\n",
       "    </tr>\n",
       "  </thead>\n",
       "  <tbody>\n",
       "    <tr>\n",
       "      <th>0</th>\n",
       "      <td>1540.00</td>\n",
       "      <td>0.01494</td>\n",
       "    </tr>\n",
       "    <tr>\n",
       "      <th>1</th>\n",
       "      <td>1540.04</td>\n",
       "      <td>0.01502</td>\n",
       "    </tr>\n",
       "    <tr>\n",
       "      <th>2</th>\n",
       "      <td>1540.08</td>\n",
       "      <td>0.01513</td>\n",
       "    </tr>\n",
       "    <tr>\n",
       "      <th>3</th>\n",
       "      <td>1540.12</td>\n",
       "      <td>0.01527</td>\n",
       "    </tr>\n",
       "    <tr>\n",
       "      <th>4</th>\n",
       "      <td>1540.16</td>\n",
       "      <td>0.01538</td>\n",
       "    </tr>\n",
       "  </tbody>\n",
       "</table>\n",
       "</div>"
      ],
      "text/plain": [
       "   Wavelength(A)  Level(A)\n",
       "0        1540.00   0.01494\n",
       "1        1540.04   0.01502\n",
       "2        1540.08   0.01513\n",
       "3        1540.12   0.01527\n",
       "4        1540.16   0.01538"
      ]
     },
     "execution_count": 8,
     "metadata": {},
     "output_type": "execute_result"
    }
   ],
   "source": [
    "names=['Wavelength(A)','Level(A)']\n",
    "df11=pd.read_csv('../data/first/name_direct.csv',names=names,skiprows=28)\n",
    "df22=pd.read_csv('../data/first/name_bragg.csv',names=names,skiprows=28)\n",
    "df11.head()"
   ]
  },
  {
   "cell_type": "code",
   "execution_count": 9,
   "id": "89a76740-d66c-4f34-a2b1-f73f41b5b3ba",
   "metadata": {},
   "outputs": [
    {
     "data": {
      "text/html": [
       "<div>\n",
       "<style scoped>\n",
       "    .dataframe tbody tr th:only-of-type {\n",
       "        vertical-align: middle;\n",
       "    }\n",
       "\n",
       "    .dataframe tbody tr th {\n",
       "        vertical-align: top;\n",
       "    }\n",
       "\n",
       "    .dataframe thead th {\n",
       "        text-align: right;\n",
       "    }\n",
       "</style>\n",
       "<table border=\"1\" class=\"dataframe\">\n",
       "  <thead>\n",
       "    <tr style=\"text-align: right;\">\n",
       "      <th></th>\n",
       "      <th>Wavelength(A)</th>\n",
       "      <th>Level(A)</th>\n",
       "      <th>Log_power(dBm)</th>\n",
       "    </tr>\n",
       "  </thead>\n",
       "  <tbody>\n",
       "    <tr>\n",
       "      <th>0</th>\n",
       "      <td>1540.00</td>\n",
       "      <td>0.01494</td>\n",
       "      <td>-18.256494</td>\n",
       "    </tr>\n",
       "    <tr>\n",
       "      <th>1</th>\n",
       "      <td>1540.04</td>\n",
       "      <td>0.01502</td>\n",
       "      <td>-18.233301</td>\n",
       "    </tr>\n",
       "    <tr>\n",
       "      <th>2</th>\n",
       "      <td>1540.08</td>\n",
       "      <td>0.01513</td>\n",
       "      <td>-18.201611</td>\n",
       "    </tr>\n",
       "    <tr>\n",
       "      <th>3</th>\n",
       "      <td>1540.12</td>\n",
       "      <td>0.01527</td>\n",
       "      <td>-18.161610</td>\n",
       "    </tr>\n",
       "    <tr>\n",
       "      <th>4</th>\n",
       "      <td>1540.16</td>\n",
       "      <td>0.01538</td>\n",
       "      <td>-18.130437</td>\n",
       "    </tr>\n",
       "  </tbody>\n",
       "</table>\n",
       "</div>"
      ],
      "text/plain": [
       "   Wavelength(A)  Level(A)  Log_power(dBm)\n",
       "0        1540.00   0.01494      -18.256494\n",
       "1        1540.04   0.01502      -18.233301\n",
       "2        1540.08   0.01513      -18.201611\n",
       "3        1540.12   0.01527      -18.161610\n",
       "4        1540.16   0.01538      -18.130437"
      ]
     },
     "execution_count": 9,
     "metadata": {},
     "output_type": "execute_result"
    }
   ],
   "source": [
    "lambda11,power11=df11['Wavelength(A)'],df11['Level(A)']\n",
    "lambda22,power22=df22['Wavelength(A)'],df22['Level(A)']\n",
    "df11['Log_power(dBm)']=10*np.log10(power11)\n",
    "df22['Log_power(dBm)']=10*np.log10(power22)\n",
    "df11.head()"
   ]
  },
  {
   "cell_type": "code",
   "execution_count": 10,
   "id": "6a44f026-4faa-45dc-8c2b-d197dfe73725",
   "metadata": {},
   "outputs": [
    {
     "name": "stdout",
     "output_type": "stream",
     "text": [
      "-14.84788695672198\n"
     ]
    }
   ],
   "source": [
    "fig,ax=plt.subplots()\n",
    "ax.plot(lambda11,df11['Log_power(dBm)'],'*-',label='Input-Power')\n",
    "ax.plot(lambda22,df22['Log_power(dBm)'],label='Fiber Bragg')\n",
    "#max - power -> wavelength\n",
    "max_=max(df22['Log_power(dBm)'])\n",
    "lmax = df22.loc[df22['Log_power(dBm)'] == max_, 'Wavelength(A)'].values[0] \n",
    "print(max_)\n",
    "ax.set_xlabel(r'$\\lambda (nm)$',fontsize=14)\n",
    "ax.set_ylabel(r'Power (dBm)',fontsize=14)\n",
    "plt.grid(True)\n",
    "plt.legend()\n",
    "plt.savefig('../plots/spectrum_zoomed_2.png',dpi=300)"
   ]
  },
  {
   "cell_type": "markdown",
   "id": "5072d331-95e8-4cc7-a20a-90536a618a62",
   "metadata": {},
   "source": [
    "## Refected"
   ]
  },
  {
   "cell_type": "code",
   "execution_count": 11,
   "id": "eab185b0-61a6-4c1a-933e-e013a2890f09",
   "metadata": {},
   "outputs": [],
   "source": [
    "fig,ax=plt.subplots()\n",
    "dif=df22['Log_power(dBm)']-df11['Log_power(dBm)']\n",
    "ax.plot(lambda22,dif,'r-*',label='bragg-direct')\n",
    "ax.set_xlabel(r'$\\lambda (nm)$',fontsize=14)\n",
    "ax.set_ylabel(r'Power (dB)',fontsize=14)\n",
    "label=r'$\\lambda = {} $ nm'.format(lmax)\n",
    "ax.vlines(x=lmax, ymin=-90,ymax=-5,linestyles='--',color='g',label=label)\n",
    "\n",
    "ax.set_xlim(1540,1560)\n",
    "ax.set_ylim(-40,0)\n",
    "plt.title('Reflected Power at T=297K',fontsize=14)\n",
    "plt.grid(True,color='orange')\n",
    "plt.legend()\n",
    "plt.savefig('../plots/spectrum_zoommed_3.png',dpi=300)"
   ]
  },
  {
   "cell_type": "markdown",
   "id": "3f94efc3-30d2-44e4-9e71-fa77b3bb1540",
   "metadata": {},
   "source": [
    "## Transmited"
   ]
  },
  {
   "cell_type": "code",
   "execution_count": 12,
   "id": "dc63340f-a6b3-4dec-97f2-51683e987776",
   "metadata": {},
   "outputs": [],
   "source": [
    "fig,ax=plt.subplots()\n",
    "dift=-df22['Log_power(dBm)']+df11['Log_power(dBm)']\n",
    "ax.plot(lambda22,dift,'r-*',label='direct-bragg')\n",
    "ax.set_xlabel(r'$\\lambda (nm)$',fontsize=14)\n",
    "ax.set_ylabel(r'Power (dB)',fontsize=14)\n",
    "label=r'$\\lambda = {} $ nm'.format(lmax)\n",
    "ax.vlines(x=lmax, ymin=-90,ymax=-5,linestyles='--',color='g',label=label)\n",
    "\n",
    "ax.set_xlim(1540,1560)\n",
    "ax.set_ylim(0,40)\n",
    "plt.title('Transmitted Power at T=297K',fontsize=14)\n",
    "plt.grid(True,color='orange')\n",
    "plt.legend()\n",
    "plt.savefig('../plots/spectrum_zoommed_4.png',dpi=300)"
   ]
  },
  {
   "cell_type": "markdown",
   "id": "62138a1d-d609-4270-b4eb-2f58b1a39caa",
   "metadata": {},
   "source": [
    "## cryo"
   ]
  },
  {
   "cell_type": "code",
   "execution_count": 13,
   "id": "91d57b9b-1a2f-4639-8bf0-9e69cf6c5317",
   "metadata": {},
   "outputs": [
    {
     "data": {
      "text/html": [
       "<div>\n",
       "<style scoped>\n",
       "    .dataframe tbody tr th:only-of-type {\n",
       "        vertical-align: middle;\n",
       "    }\n",
       "\n",
       "    .dataframe tbody tr th {\n",
       "        vertical-align: top;\n",
       "    }\n",
       "\n",
       "    .dataframe thead th {\n",
       "        text-align: right;\n",
       "    }\n",
       "</style>\n",
       "<table border=\"1\" class=\"dataframe\">\n",
       "  <thead>\n",
       "    <tr style=\"text-align: right;\">\n",
       "      <th></th>\n",
       "      <th>Wavelength(A)</th>\n",
       "      <th>Level(A)</th>\n",
       "    </tr>\n",
       "  </thead>\n",
       "  <tbody>\n",
       "    <tr>\n",
       "      <th>0</th>\n",
       "      <td>1540.00</td>\n",
       "      <td>0.000194</td>\n",
       "    </tr>\n",
       "    <tr>\n",
       "      <th>1</th>\n",
       "      <td>1540.04</td>\n",
       "      <td>0.000193</td>\n",
       "    </tr>\n",
       "    <tr>\n",
       "      <th>2</th>\n",
       "      <td>1540.08</td>\n",
       "      <td>0.000194</td>\n",
       "    </tr>\n",
       "    <tr>\n",
       "      <th>3</th>\n",
       "      <td>1540.12</td>\n",
       "      <td>0.000197</td>\n",
       "    </tr>\n",
       "    <tr>\n",
       "      <th>4</th>\n",
       "      <td>1540.16</td>\n",
       "      <td>0.000197</td>\n",
       "    </tr>\n",
       "  </tbody>\n",
       "</table>\n",
       "</div>"
      ],
      "text/plain": [
       "   Wavelength(A)  Level(A)\n",
       "0        1540.00  0.000194\n",
       "1        1540.04  0.000193\n",
       "2        1540.08  0.000194\n",
       "3        1540.12  0.000197\n",
       "4        1540.16  0.000197"
      ]
     },
     "execution_count": 13,
     "metadata": {},
     "output_type": "execute_result"
    }
   ],
   "source": [
    "names=['Wavelength(A)','Level(A)']\n",
    "df33=pd.read_csv('../data/first/name_cr.csv',names=names,skiprows=28)\n",
    "#df22=pd.read_csv('../data/first/name_bragg.csv',names=names,skiprows=28)\n",
    "df33.head()"
   ]
  },
  {
   "cell_type": "code",
   "execution_count": 14,
   "id": "60b060bc-f05b-4d1d-8bfb-94f89b520694",
   "metadata": {},
   "outputs": [
    {
     "data": {
      "text/html": [
       "<div>\n",
       "<style scoped>\n",
       "    .dataframe tbody tr th:only-of-type {\n",
       "        vertical-align: middle;\n",
       "    }\n",
       "\n",
       "    .dataframe tbody tr th {\n",
       "        vertical-align: top;\n",
       "    }\n",
       "\n",
       "    .dataframe thead th {\n",
       "        text-align: right;\n",
       "    }\n",
       "</style>\n",
       "<table border=\"1\" class=\"dataframe\">\n",
       "  <thead>\n",
       "    <tr style=\"text-align: right;\">\n",
       "      <th></th>\n",
       "      <th>Wavelength(A)</th>\n",
       "      <th>Level(A)</th>\n",
       "      <th>Log_power(dBm)</th>\n",
       "    </tr>\n",
       "  </thead>\n",
       "  <tbody>\n",
       "    <tr>\n",
       "      <th>0</th>\n",
       "      <td>1540.00</td>\n",
       "      <td>0.000194</td>\n",
       "      <td>-37.117508</td>\n",
       "    </tr>\n",
       "    <tr>\n",
       "      <th>1</th>\n",
       "      <td>1540.04</td>\n",
       "      <td>0.000193</td>\n",
       "      <td>-37.142177</td>\n",
       "    </tr>\n",
       "    <tr>\n",
       "      <th>2</th>\n",
       "      <td>1540.08</td>\n",
       "      <td>0.000194</td>\n",
       "      <td>-37.117508</td>\n",
       "    </tr>\n",
       "    <tr>\n",
       "      <th>3</th>\n",
       "      <td>1540.12</td>\n",
       "      <td>0.000197</td>\n",
       "      <td>-37.046529</td>\n",
       "    </tr>\n",
       "    <tr>\n",
       "      <th>4</th>\n",
       "      <td>1540.16</td>\n",
       "      <td>0.000197</td>\n",
       "      <td>-37.053134</td>\n",
       "    </tr>\n",
       "  </tbody>\n",
       "</table>\n",
       "</div>"
      ],
      "text/plain": [
       "   Wavelength(A)  Level(A)  Log_power(dBm)\n",
       "0        1540.00  0.000194      -37.117508\n",
       "1        1540.04  0.000193      -37.142177\n",
       "2        1540.08  0.000194      -37.117508\n",
       "3        1540.12  0.000197      -37.046529\n",
       "4        1540.16  0.000197      -37.053134"
      ]
     },
     "execution_count": 14,
     "metadata": {},
     "output_type": "execute_result"
    }
   ],
   "source": [
    "lambda33,power33=df33['Wavelength(A)'],df33['Level(A)']\n",
    "df33['Log_power(dBm)']=10*np.log10(power33)\n",
    "df33.head()"
   ]
  },
  {
   "cell_type": "code",
   "execution_count": 15,
   "id": "28618e0f-da8d-4e9c-b7fe-63052500cb29",
   "metadata": {},
   "outputs": [],
   "source": [
    "fig,ax = plt.subplots()\n",
    "#ax.plot(lambda11,df11['Log_power(dBm)'],'*-',label='Input-Power')\n",
    "ax.plot(lambda22,df22['Log_power(dBm)'],label='Fiber Bragg')\n",
    "ax.plot(lambda33,df33['Log_power(dBm)'],label='Fiber Bragg - Cryo')\n",
    "##peak\n",
    "\n",
    "max_a=max(df22['Log_power(dBm)'])\n",
    "lmaxa = df22.loc[df22['Log_power(dBm)'] == max_a, 'Wavelength(A)'].values[0] \n",
    "label=r'$\\lambda = {} $ nm'.format(lmaxa)\n",
    "ax.vlines(x=lmaxa, ymin=-52,ymax=-15,linestyles='--',color='g',label=label)\n",
    "\n",
    "##peak\n",
    "max_b=max(df33['Log_power(dBm)'])\n",
    "lmaxb = df33.loc[df33['Log_power(dBm)'] == max_b, 'Wavelength(A)'].values[0] \n",
    "label=r'$\\lambda = {} $ nm'.format(lmaxb)\n",
    "ax.vlines(x=lmaxb, ymin=-52,ymax=-15,linestyles='--',color='k',label=label)\n",
    "\n",
    "ax.set_xlabel(r'$\\lambda (nm)$',fontsize=14)\n",
    "ax.set_ylabel(r'Power (dBm)',fontsize=14)\n",
    "\n",
    "ax.set_ylim(-52,-12)\n",
    "\n",
    "plt.grid(True)\n",
    "ax.legend()\n",
    "plt.show()"
   ]
  },
  {
   "cell_type": "code",
   "execution_count": 16,
   "id": "8f7fcae8-562b-4180-90a0-8d5fd43dc591",
   "metadata": {},
   "outputs": [
    {
     "data": {
      "text/plain": [
       "<matplotlib.legend.Legend at 0x7fbdbde7ef10>"
      ]
     },
     "execution_count": 16,
     "metadata": {},
     "output_type": "execute_result"
    }
   ],
   "source": [
    "fig,ax=plt.subplots()\n",
    "##cryo\n",
    "dif33=df33['Log_power(dBm)']-df11['Log_power(dBm)']\n",
    "ax.plot(lambda33,11.+dif33,'r-',label='with cryo_lines')\n",
    "\n",
    "max_33=max(df33['Log_power(dBm)'])\n",
    "lmax33 = df33.loc[df33['Log_power(dBm)'] == max_33, 'Wavelength(A)'].values[0] \n",
    "label=r'$\\lambda = {} $ nm'.format(lmax33)\n",
    "ax.vlines(x=lmax33, ymin=-40,ymax=-2,linestyles='--',color='g',label=label)\n",
    "\n",
    "# ## no cryo\n",
    "dif22=df22['Log_power(dBm)']-df11['Log_power(dBm)']\n",
    "ax.plot(lambda22,dif22,'b-*',label='without cryo_lines')\n",
    "max_22=max(df22['Log_power(dBm)'])\n",
    "lmax22 = df22.loc[df22['Log_power(dBm)'] == max_22, 'Wavelength(A)'].values[0] \n",
    "label=r'$\\lambda = {} $ nm'.format(lmax22)\n",
    "\n",
    "\n",
    "ax.vlines(x=lmax22, ymin=-40,ymax=-2,linestyles='--',color='k',label=label)\n",
    "ax.set_xlabel(r'$\\lambda (nm)$',fontsize=14)\n",
    "ax.set_ylabel(r'Power (dB)',fontsize=14)\n",
    "\n",
    "\n",
    "ax.set_xlim(1540,1560)\n",
    "ax.set_ylim(-40,0)\n",
    "plt.title('Reflected Power at T=297K',fontsize=14)\n",
    "plt.grid(True,color='orange')\n",
    "plt.legend()\n",
    "#plt.savefig('../plots/spectrum_zoommed_5.png',dpi=300)"
   ]
  },
  {
   "cell_type": "code",
   "execution_count": null,
   "id": "0b0a0135-7d39-4efd-b3e0-f4548f27068a",
   "metadata": {},
   "outputs": [],
   "source": []
  },
  {
   "cell_type": "code",
   "execution_count": null,
   "id": "30f828d6-79d1-48be-b74a-0ea31e5214f6",
   "metadata": {},
   "outputs": [],
   "source": []
  },
  {
   "cell_type": "code",
   "execution_count": null,
   "id": "6cffaf6d-cc80-4638-a217-90db19419ad8",
   "metadata": {},
   "outputs": [],
   "source": []
  }
 ],
 "metadata": {
  "kernelspec": {
   "display_name": "Python 3 (ipykernel)",
   "language": "python",
   "name": "python3"
  },
  "language_info": {
   "codemirror_mode": {
    "name": "ipython",
    "version": 3
   },
   "file_extension": ".py",
   "mimetype": "text/x-python",
   "name": "python",
   "nbconvert_exporter": "python",
   "pygments_lexer": "ipython3",
   "version": "3.9.16"
  }
 },
 "nbformat": 4,
 "nbformat_minor": 5
}
