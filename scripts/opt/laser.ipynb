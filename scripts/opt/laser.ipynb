{
 "cells": [
  {
   "cell_type": "code",
   "execution_count": 3,
   "id": "0b2c4dca-faec-45a1-a1e8-849985e45cd7",
   "metadata": {},
   "outputs": [],
   "source": [
    "import socket"
   ]
  },
  {
   "cell_type": "code",
   "execution_count": 7,
   "id": "fd3520d8-0287-43e9-889f-21b5bc713293",
   "metadata": {},
   "outputs": [],
   "source": []
  },
  {
   "cell_type": "code",
   "execution_count": 30,
   "id": "b291d2ff-6e7d-486c-9017-aec532b1fbde",
   "metadata": {},
   "outputs": [
    {
     "name": "stdout",
     "output_type": "stream",
     "text": [
      "Interfaz: lo, Dirección IP: 127.0.0.1\n",
      "Interfaz: wlx00ebd80ff67c, Dirección IP: 192.168.0.112\n"
     ]
    }
   ],
   "source": [
    "import socket\n",
    "import fcntl\n",
    "import struct\n",
    "\n",
    "def obtener_direcciones_ip():\n",
    "    direcciones_ip = {}\n",
    "\n",
    "    # Obtener direcciones IP de todas las interfaces\n",
    "    interfaces = socket.if_nameindex()\n",
    "    for idx, nombre in interfaces:\n",
    "        try:\n",
    "            direccion_ip = socket.inet_ntoa(fcntl.ioctl(socket.socket(socket.AF_INET, socket.SOCK_DGRAM), 0x8915, struct.pack('256s', bytes(nombre[:15], 'utf-8')))[20:24])\n",
    "            direcciones_ip[nombre] = direccion_ip\n",
    "        except IOError:\n",
    "            pass  # Ignorar interfaces que no tienen dirección IP\n",
    "\n",
    "    return direcciones_ip\n",
    "\n",
    "# Obtener y mostrar las direcciones IP\n",
    "direcciones = obtener_direcciones_ip()\n",
    "for nombre, direccion in direcciones.items():\n",
    "    print(f\"Interfaz: {nombre}, Dirección IP: {direccion}\")"
   ]
  },
  {
   "cell_type": "code",
   "execution_count": 42,
   "id": "f4cad366-0043-441f-b2e0-41a3c5f9aef0",
   "metadata": {},
   "outputs": [],
   "source": [
    "import telnetlib3"
   ]
  },
  {
   "cell_type": "code",
   "execution_count": 43,
   "id": "456d5916-5124-420f-983a-6d67d56eba64",
   "metadata": {},
   "outputs": [],
   "source": [
    "from telnetlib import Telnet"
   ]
  },
  {
   "cell_type": "code",
   "execution_count": 50,
   "id": "3ded9f06-295f-456e-b181-202eeb384b48",
   "metadata": {},
   "outputs": [],
   "source": [
    "ipaddress = '10.73.97.65'\n",
    "puerto = 5024\n",
    "with Telnet(ipaddress,puerto) as tn:\n",
    "    tn.interact()"
   ]
  },
  {
   "cell_type": "code",
   "execution_count": 51,
   "id": "46df9b90-c14d-4148-8ccb-6520654085a6",
   "metadata": {},
   "outputs": [
    {
     "name": "stdout",
     "output_type": "stream",
     "text": [
      "Instrument Catalog:  Trying to connect....\n",
      "\n"
     ]
    }
   ],
   "source": [
    "# Crear una conexión Telnet\n",
    "with Telnet(ipaddress, puerto, timeout=5) as tn:\n",
    "    # Envía el comando para obtener el catálogo\n",
    "    tn.write(b'INSTRument:CATalog:FULL?\\n')\n",
    "\n",
    "    # Espera la respuesta y la imprime\n",
    "    catalog_response = tn.read_until(b'\\n', timeout=5)\n",
    "    print(\"Instrument Catalog:\", catalog_response.decode())"
   ]
  },
  {
   "cell_type": "code",
   "execution_count": null,
   "id": "ea77ec9d",
   "metadata": {},
   "outputs": [],
   "source": []
  },
  {
   "cell_type": "code",
   "execution_count": 1,
   "id": "a7e781c5",
   "metadata": {},
   "outputs": [
    {
     "name": "stdout",
     "output_type": "stream",
     "text": [
      "Requirement already satisfied: telnetlib3 in c:\\users\\leandro\\anaconda3\\lib\\site-packages (2.0.4)\n",
      "Note: you may need to restart the kernel to use updated packages.\n"
     ]
    }
   ],
   "source": [
    "pip install telnetlib3"
   ]
  },
  {
   "cell_type": "markdown",
   "id": "2979233b-672a-46bc-90aa-e8c25a7c15fd",
   "metadata": {},
   "source": [
    "## Catálogo del equipo"
   ]
  },
  {
   "cell_type": "code",
   "execution_count": 5,
   "id": "e04d3760-21c9-4ad5-98c2-85ee777e23b4",
   "metadata": {},
   "outputs": [
    {
     "name": "stdout",
     "output_type": "stream",
     "text": [
      "Instrument ID: b''\n",
      "Instrument Catalog: b''\n"
     ]
    }
   ],
   "source": [
    "from telnetlib import Telnet\n",
    "\n",
    "ip = '10.73.97.65'\n",
    "port = 5024\n",
    "\n",
    "with Telnet(ip, port) as tn:\n",
    "    \n",
    "    tn.read_until(b\"Welcome\", timeout=2)\n",
    "    ##IDN\n",
    "    tn.write(b'*IDN?\\n')\n",
    "    id_response = tn.read_until(b'\\n', timeout=2)\n",
    "    print(\"Instrument ID:\", id_response.strip())\n",
    "    ## catalogo\n",
    "    tn.write(b'INSTrument:CATalog:FULL?\\n')\n",
    "    catalogfull = tn.read_until(b'\\n', timeout=2)\n",
    "    print(\"Instrument Catalog:\", catalogfull.strip())"
   ]
  },
  {
   "cell_type": "code",
   "execution_count": null,
   "id": "c7968846-545b-49ad-8888-caa2d91e0580",
   "metadata": {},
   "outputs": [],
   "source": [
    "laser      = 'LINStrument11:';       # logical instrument (SLOT 11)\n",
    "attenuator = 'LINStrument12:';       # logical instrument (SLOT 12)\n",
    "powerMeter = 'LINStrument13:';       # logical instrument (SLOT 13)\n"
   ]
  },
  {
   "cell_type": "markdown",
   "id": "9756000b-cd0f-4ba7-935c-5695208dd4b3",
   "metadata": {},
   "source": [
    "## Configuracion de la hora"
   ]
  },
  {
   "cell_type": "code",
   "execution_count": 42,
   "id": "d7f9ec02-7bf9-4f65-926e-b38c0e11eb86",
   "metadata": {},
   "outputs": [
    {
     "name": "stdout",
     "output_type": "stream",
     "text": [
      "Instrument Catalog: b'Command executed successfully.'\n"
     ]
    }
   ],
   "source": [
    "#hora\n",
    "from telnetlib import Telnet\n",
    "import time\n",
    "\n",
    "ip = '10.73.97.65'\n",
    "port = 5024\n",
    "\n",
    "with Telnet(ip, port) as tn:\n",
    "    \n",
    "    tn.read_until(b\"Welcome\", timeout=2)\n",
    "    ##hora\n",
    "    tn.write(b'SYSTem:TIME 15,58,40\\n') #15h,58m,30s\n",
    "    time.sleep(2)\n",
    "    time = tn.read_until(b'\\n', timeout=5)\n",
    "    print(\"Hora:\", time.strip())"
   ]
  },
  {
   "cell_type": "markdown",
   "id": "1187241e-50ae-456e-a21f-de6e1ca57ed2",
   "metadata": {},
   "source": [
    "## Configuracion del atenuador"
   ]
  },
  {
   "cell_type": "code",
   "execution_count": 87,
   "id": "51c50a4c-17c2-4933-bef9-45c7ef6fae97",
   "metadata": {},
   "outputs": [
    {
     "name": "stdout",
     "output_type": "stream",
     "text": [
      "b'LINStrument12:INPut:ATTenuation 5.0 dB\\r\\n'\n",
      "b'LINStrument12:INPut:ATTenuation 6.0 dB\\r\\n'\n",
      "b'LINStrument12:INPut:ATTenuation 7.0 dB\\r\\n'\n",
      "b'LINStrument12:INPut:ATTenuation 8.0 dB\\r\\n'\n",
      "b'LINStrument12:INPut:ATTenuation 9.0 dB\\r\\n'\n"
     ]
    }
   ],
   "source": [
    "from telnetlib import Telnet\n",
    "import time\n",
    "import pandas as pd\n",
    "import matplotlib.pyplot as plt\n",
    "import re\n",
    "ip = '192.168.1.3'\n",
    "port = 5024\n",
    "with Telnet(ip, port) as tn:\n",
    "    ##longitud de onda de entrada del atenuador\n",
    "    tn.write(b'LINStrument12:INPut:WAVelength 1550 NM\\r\\n')\n",
    "    time.sleep(1)\n",
    "    ##modo de atenuacion\n",
    "    tn.write(b'LINStrument12:CONTrol1:MODE ATTenuation\\r\\n')\n",
    "    time.sleep(1)\n",
    "    ## cierro\n",
    "    tn.write(b'LINStrument12:OUTPut1:STATe ON\\r\\n')\n",
    "    time.sleep(1)\n",
    "    ## cambio la atenuacion a 10dB\n",
    "    nn=np.arange(5.0,10.0,1)\n",
    "    for x in nn:\n",
    "        print(bytes('LINStrument12:INPut:ATTenuation {} dB\\r\\n'.format(x),encoding='utf8'))\n",
    "        tn.write(bytes('LINStrument12:INPut:ATTenuation {} dB\\r\\n'.format(x),encoding='utf8'))\n",
    "        time.sleep(10)\n",
    "#     tn.write(b'LINStrument12:INPut:ATTenuation 6.0 dB\\r\\n')\n",
    "#     time.sleep(10)\n",
    "#     tn.write(b'LINStrument12:INPut:ATTenuation 5.0 dB\\r\\n')\n",
    "#     time.sleep(10)\n",
    "#     tn.write(b'LINStrument12:INPut:ATTenuation 4.0 dB\\r\\n')\n",
    "    #time.sleep(10)"
   ]
  },
  {
   "cell_type": "code",
   "execution_count": 95,
   "id": "57427cf0",
   "metadata": {},
   "outputs": [
    {
     "name": "stdout",
     "output_type": "stream",
     "text": [
      "hola\n"
     ]
    }
   ],
   "source": [
    "if(60%10==0):\n",
    "    print('hola')"
   ]
  },
  {
   "cell_type": "code",
   "execution_count": 84,
   "id": "b0968dbb",
   "metadata": {},
   "outputs": [
    {
     "name": "stdout",
     "output_type": "stream",
     "text": [
      "b'LINStrument12:INPut:ATTenuation 5.0 dB\\r\\n'\n",
      "b'LINStrument12:INPut:ATTenuation 6.0 dB\\r\\n'\n",
      "b'LINStrument12:INPut:ATTenuation 7.0 dB\\r\\n'\n",
      "b'LINStrument12:INPut:ATTenuation 8.0 dB\\r\\n'\n",
      "b'LINStrument12:INPut:ATTenuation 9.0 dB\\r\\n'\n"
     ]
    }
   ],
   "source": [
    "import numpy as np\n",
    "aa=[]\n",
    "nn=np.arange(5.0,10.0,1)\n",
    "for x in nn:\n",
    "    print(bytes('LINStrument12:INPut:ATTenuation {} dB\\r\\n'.format(x),encoding='utf8'))\n",
    "    time.sleep(1)"
   ]
  },
  {
   "cell_type": "code",
   "execution_count": 57,
   "id": "95b3031a",
   "metadata": {},
   "outputs": [
    {
     "data": {
      "text/plain": [
       "['input 5.0 n', 'input 6.0 n', 'input 7.0 n', 'input 8.0 n', 'input 9.0 n']"
      ]
     },
     "execution_count": 57,
     "metadata": {},
     "output_type": "execute_result"
    }
   ],
   "source": []
  },
  {
   "cell_type": "code",
   "execution_count": 30,
   "id": "e1c2eaba",
   "metadata": {},
   "outputs": [
    {
     "data": {
      "text/plain": [
       "array([5., 6., 7., 8., 9.])"
      ]
     },
     "execution_count": 30,
     "metadata": {},
     "output_type": "execute_result"
    }
   ],
   "source": [
    "np.arange(5.0,10.0,1)"
   ]
  },
  {
   "cell_type": "markdown",
   "id": "f1d5e95d-bffe-4eab-a36a-71495d8eb2e4",
   "metadata": {},
   "source": [
    "## Lector de Potencia"
   ]
  },
  {
   "cell_type": "code",
   "execution_count": null,
   "id": "0e249bfd-50af-48a5-b101-035a2bc1f5e4",
   "metadata": {},
   "outputs": [
    {
     "name": "stderr",
     "output_type": "stream",
     "text": [
      "C:\\Users\\Leandro\\AppData\\Local\\Temp\\ipykernel_16324\\1419252248.py:1: DeprecationWarning: 'telnetlib' is deprecated and slated for removal in Python 3.13\n",
      "  from telnetlib import Telnet\n"
     ]
    },
    {
     "name": "stdout",
     "output_type": "stream",
     "text": [
      "Wait\n",
      "Wait\n",
      "Wait\n",
      "Wait\n",
      "Wait\n",
      "Wait\n",
      "-50.3926\n",
      "-50.3928\n",
      "-50.3924\n",
      "-50.3921\n",
      "-50.3933\n",
      "-50.3932\n",
      "-50.3926\n",
      "-50.3934\n",
      "-50.3926\n",
      "-50.3929\n",
      "-50.3926\n",
      "-50.393\n",
      "-50.3936\n",
      "-50.3917\n",
      "-50.3934\n",
      "-50.3933\n",
      "-50.3934\n",
      "-50.3931\n",
      "-50.3942\n",
      "-50.3927\n",
      "-50.3925\n",
      "-50.3927\n",
      "-50.392\n",
      "-50.392\n",
      "-50.392\n",
      "-50.3914\n",
      "-50.3926\n",
      "-50.393\n",
      "-50.3924\n",
      "-50.3935\n",
      "-50.3928\n",
      "-50.3927\n",
      "-50.3934\n",
      "-50.3932\n",
      "-50.3934\n",
      "-50.3927\n",
      "-50.3929\n",
      "-50.3932\n",
      "-50.3922\n",
      "-50.3918\n",
      "-50.3926\n",
      "-50.3932\n",
      "-50.3935\n",
      "-50.3921\n",
      "-50.3927\n",
      "-50.3926\n",
      "-50.3932\n",
      "-50.3923\n",
      "-50.3914\n",
      "-50.3919\n",
      "-50.3922\n",
      "-50.3924\n",
      "-50.393\n"
     ]
    }
   ],
   "source": [
    "from telnetlib import Telnet\n",
    "import time\n",
    "import pandas as pd\n",
    "import matplotlib.pyplot as plt\n",
    "import re\n",
    "%matplotlib tk\n",
    "\n",
    "ip = '10.73.97.65'\n",
    "port = 5024\n",
    "something='LS-9dBm'\n",
    "today=time.strftime(\"%m_%d\")+'_'+time.strftime(\"%H_%M\")+something\n",
    "t=[] ## segundos\n",
    "t0=time.time() \n",
    "time2=[]\n",
    "data=[]\n",
    "\n",
    "fig,ax=plt.subplots()\n",
    "line, = ax.plot(t,data,'-o')\n",
    "plt.show()\n",
    "with Telnet(ip, port) as tn:\n",
    "    ##unidad de medida\n",
    "    tn.write(b'LINStrument13:UNIT1:POWer WATT nm\\r\\n')\n",
    "    time.sleep(1)\n",
    "    ## longitud de onda de medida : e1 - canal 1\n",
    "    tn.write(b'LINStrument13:SENSe1:POWer:WAVelength 1550.00 nm\\r\\n')\n",
    "    time.sleep(1)\n",
    "    ##configuracion del promediado\n",
    "    tn.write(b'LINStrument13:SENSe1:AVERage:STATe ON  nm\\r\\n')\n",
    "    time.sleep(1)\n",
    "    ##cantidad de muestras\n",
    "    tn.write(b'LINStrument13:SENSe1:AVERage:COUNt 10  nm\\r\\n')\n",
    "    time.sleep(1)\n",
    "    ##lectura\n",
    "    while True:\n",
    "        tn.write(b'LINStrument13:READ1:SCALar:POWer:DC?\\r\\n')\n",
    "        #tn.write(b'LINStrument13:SENSe1:POWer:WAVelength?\\r\\n')\n",
    "        time.sleep(1)\n",
    "        power=tn.read_until(b'\\r\\n').decode('utf-8').strip()\n",
    "        match=re.search(r'READY> (-\\d+\\.\\d+E[+-]?\\d+)',power)\n",
    "        if match:\n",
    "            power_db=float(match.group(1))\n",
    "            data.append(power_db)\n",
    "            time2.append(time.strftime(\"%H:%M:%S\"))\n",
    "            t.append(time.time()-t0)\n",
    "            \n",
    "            line.set_ydata(data)\n",
    "            line.set_xdata(t)\n",
    "            ax.relim()\n",
    "            ax.autoscale_view()\n",
    "            print(power_db)\n",
    "            df=pd.DataFrame({'Date':time2,'Time(s)':t,'Power(dB)':data})\n",
    "            filename='Data/'+'power_'+today\n",
    "            df.to_csv(filename+'.csv',index=False)\n",
    "            \n",
    "        else:\n",
    "            print('Wait')"
   ]
  },
  {
   "cell_type": "markdown",
   "id": "989e0b02-c4cb-4ec1-a830-4835d1dfa436",
   "metadata": {},
   "source": [
    "## Laser"
   ]
  },
  {
   "cell_type": "code",
   "execution_count": 132,
   "id": "349e9f6c-5752-4471-9a86-64c8c0929b9c",
   "metadata": {},
   "outputs": [
    {
     "name": "stdout",
     "output_type": "stream",
     "text": [
      "Trying to connect....\n",
      "Trying to connect....\n",
      "Trying to connect....\n",
      "Trying to connect....\n"
     ]
    },
    {
     "ename": "KeyboardInterrupt",
     "evalue": "",
     "output_type": "error",
     "traceback": [
      "\u001b[0;31m---------------------------------------------------------------------------\u001b[0m",
      "\u001b[0;31mKeyboardInterrupt\u001b[0m                         Traceback (most recent call last)",
      "Cell \u001b[0;32mIn[132], line 12\u001b[0m\n\u001b[1;32m     10\u001b[0m \u001b[38;5;28;01mwhile\u001b[39;00m \u001b[38;5;28;01mTrue\u001b[39;00m:\n\u001b[1;32m     11\u001b[0m     \u001b[38;5;28mprint\u001b[39m(power)\n\u001b[0;32m---> 12\u001b[0m     \u001b[43mtime\u001b[49m\u001b[38;5;241;43m.\u001b[39;49m\u001b[43msleep\u001b[49m\u001b[43m(\u001b[49m\u001b[38;5;241;43m1\u001b[39;49m\u001b[43m)\u001b[49m\n",
      "\u001b[0;31mKeyboardInterrupt\u001b[0m: "
     ]
    }
   ],
   "source": [
    "import time\n",
    "ip = '10.73.97.65'\n",
    "port = 5024\n",
    "with Telnet(ip, port) as tn:\n",
    "    ##longitud de onda de entrada del atenuador\n",
    "    #tn.write(b'LINStrument11:READ:SCALar:POWer:DC?\\r\\n')\n",
    "    tn.write(b'LINStrument11:OUTput:POWer?\\r\\n')\n",
    "    time.sleep(1)\n",
    "    power=tn.read_until(b'\\r\\n').decode('utf-8').strip()\n",
    "    while True:\n",
    "        print(power)\n",
    "        time.sleep(1)\n",
    "    # ##modo de atenuacion\n",
    "    # tn.write(b'LINStrument12:CONTrol1:MODE ATTenuation\\r\\n')\n",
    "    # time.sleep(1)\n",
    "    # ## cierro\n",
    "    # tn.write(b'LINStrument12:OUTPut1:STATe OFF\\r\\n')\n",
    "    # time.sleep(1)"
   ]
  },
  {
   "cell_type": "code",
   "execution_count": 129,
   "id": "760a3b98-ca70-4fe7-aa18-a501c84680ae",
   "metadata": {},
   "outputs": [
    {
     "data": {
      "text/html": [
       "<div>\n",
       "<style scoped>\n",
       "    .dataframe tbody tr th:only-of-type {\n",
       "        vertical-align: middle;\n",
       "    }\n",
       "\n",
       "    .dataframe tbody tr th {\n",
       "        vertical-align: top;\n",
       "    }\n",
       "\n",
       "    .dataframe thead th {\n",
       "        text-align: right;\n",
       "    }\n",
       "</style>\n",
       "<table border=\"1\" class=\"dataframe\">\n",
       "  <thead>\n",
       "    <tr style=\"text-align: right;\">\n",
       "      <th></th>\n",
       "      <th>Date</th>\n",
       "      <th>Time(s)</th>\n",
       "      <th>Power(dB)</th>\n",
       "      <th>Temp(K)</th>\n",
       "      <th>atennuation(dB)</th>\n",
       "    </tr>\n",
       "  </thead>\n",
       "  <tbody>\n",
       "    <tr>\n",
       "      <th>0</th>\n",
       "      <td>18:51:57</td>\n",
       "      <td>10.292362</td>\n",
       "      <td>-45.8262</td>\n",
       "      <td>0.08734</td>\n",
       "      <td>3.0</td>\n",
       "    </tr>\n",
       "    <tr>\n",
       "      <th>1</th>\n",
       "      <td>18:51:59</td>\n",
       "      <td>12.398623</td>\n",
       "      <td>-45.8266</td>\n",
       "      <td>0.08734</td>\n",
       "      <td>3.0</td>\n",
       "    </tr>\n",
       "    <tr>\n",
       "      <th>2</th>\n",
       "      <td>18:52:00</td>\n",
       "      <td>13.439866</td>\n",
       "      <td>-45.8261</td>\n",
       "      <td>0.08734</td>\n",
       "      <td>3.0</td>\n",
       "    </tr>\n",
       "    <tr>\n",
       "      <th>3</th>\n",
       "      <td>18:52:01</td>\n",
       "      <td>14.481059</td>\n",
       "      <td>-45.8261</td>\n",
       "      <td>0.08734</td>\n",
       "      <td>3.0</td>\n",
       "    </tr>\n",
       "    <tr>\n",
       "      <th>4</th>\n",
       "      <td>18:52:02</td>\n",
       "      <td>15.527113</td>\n",
       "      <td>-45.8267</td>\n",
       "      <td>0.08734</td>\n",
       "      <td>3.0</td>\n",
       "    </tr>\n",
       "  </tbody>\n",
       "</table>\n",
       "</div>"
      ],
      "text/plain": [
       "       Date    Time(s)  Power(dB)  Temp(K)  atennuation(dB)\n",
       "0  18:51:57  10.292362   -45.8262  0.08734              3.0\n",
       "1  18:51:59  12.398623   -45.8266  0.08734              3.0\n",
       "2  18:52:00  13.439866   -45.8261  0.08734              3.0\n",
       "3  18:52:01  14.481059   -45.8261  0.08734              3.0\n",
       "4  18:52:02  15.527113   -45.8267  0.08734              3.0"
      ]
     },
     "execution_count": 129,
     "metadata": {},
     "output_type": "execute_result"
    }
   ],
   "source": [
    "df=pd.read_csv('Data/power_11_22_18_51LS-9dBm.csv')\n",
    "df.head()"
   ]
  },
  {
   "cell_type": "code",
   "execution_count": 144,
   "id": "cdfe1c76",
   "metadata": {
    "scrolled": true
   },
   "outputs": [
    {
     "data": {
      "text/plain": [
       "Text(0, 0.5, '$S_{21}$ (dB)')"
      ]
     },
     "execution_count": 144,
     "metadata": {},
     "output_type": "execute_result"
    }
   ],
   "source": [
    "%matplotlib tk\n",
    "plt.plot(df['Temp(K)'],df['Power(dB)']+df['atennuation(dB)'],'*')\n",
    "plt.plot(df['Temp(K)'],df['atennuation(dB)'],'r-*')\n",
    "# plt.xlim(0,70)\n",
    "#plt.ylim(-46,-40)\n",
    "plt.xlabel('Temperature(K)')\n",
    "plt.ylabel(r'$S_{21}$ (dB)')\n"
   ]
  },
  {
   "cell_type": "code",
   "execution_count": 120,
   "id": "abc34945",
   "metadata": {},
   "outputs": [
    {
     "name": "stdout",
     "output_type": "stream",
     "text": [
      "3k PLATE 3.070993\n",
      "3k PLATE 3.070993\n",
      "3k PLATE 3.070993\n",
      "3k PLATE 3.070993\n",
      "3k PLATE 3.070993\n",
      "0.876598\n",
      "0.876598\n",
      "0.876598\n",
      "0.876598\n",
      "0.876598\n",
      "0.876598\n",
      "0.876598\n",
      "0.876598\n",
      "0.876598\n",
      "0.876598\n",
      "0.876598\n",
      "0.876598\n",
      "0.876598\n",
      "Others\n",
      "Others\n",
      "Others\n",
      "Others\n",
      "Others\n",
      "Others\n",
      "3k PLATE 3.07044\n",
      "3k PLATE 3.07044\n",
      "3k PLATE 3.07044\n",
      "3k PLATE 3.07044\n",
      "3k PLATE 3.07044\n",
      "0.876469\n",
      "0.876469\n",
      "0.876469\n",
      "0.876469\n",
      "0.876469\n",
      "0.876469\n",
      "0.876469\n",
      "0.876469\n",
      "0.876469\n",
      "0.876469\n",
      "0.876469\n",
      "0.876469\n",
      "0.876469\n",
      "Others\n",
      "Others\n",
      "Others\n",
      "Others\n",
      "Others\n",
      "Others\n",
      "0.876673\n",
      "0.876673\n"
     ]
    },
    {
     "ename": "KeyboardInterrupt",
     "evalue": "",
     "output_type": "error",
     "traceback": [
      "\u001b[1;31m---------------------------------------------------------------------------\u001b[0m",
      "\u001b[1;31mKeyboardInterrupt\u001b[0m                         Traceback (most recent call last)",
      "Cell \u001b[1;32mIn[120], line 17\u001b[0m\n\u001b[0;32m     15\u001b[0m     T_3K\u001b[38;5;241m=\u001b[39mT_3K\u001b[38;5;241m+\u001b[39m[T_3K[\u001b[38;5;241m-\u001b[39m\u001b[38;5;241m1\u001b[39m]]\n\u001b[0;32m     16\u001b[0m     \u001b[38;5;28mprint\u001b[39m(\u001b[38;5;124m'\u001b[39m\u001b[38;5;124mOthers\u001b[39m\u001b[38;5;124m'\u001b[39m)\n\u001b[1;32m---> 17\u001b[0m plt\u001b[38;5;241m.\u001b[39mpause(\u001b[38;5;241m2\u001b[39m)\n",
      "File \u001b[1;32m~\\anaconda3\\Lib\\site-packages\\matplotlib\\pyplot.py:584\u001b[0m, in \u001b[0;36mpause\u001b[1;34m(interval)\u001b[0m\n\u001b[0;32m    582\u001b[0m     canvas\u001b[38;5;241m.\u001b[39mstart_event_loop(interval)\n\u001b[0;32m    583\u001b[0m \u001b[38;5;28;01melse\u001b[39;00m:\n\u001b[1;32m--> 584\u001b[0m     time\u001b[38;5;241m.\u001b[39msleep(interval)\n",
      "\u001b[1;31mKeyboardInterrupt\u001b[0m: "
     ]
    }
   ],
   "source": [
    "import requests\n",
    "T_3K=[]\n",
    "while True:\n",
    "    req= requests.get(\"http://192.168.1.1:5001/channel/measurement/latest\", timeout=10)\n",
    "    data = req.json()\n",
    "    \n",
    "    if data['channel_nr'] == 2:\n",
    "        print('3k PLATE', data['temperature'])\n",
    "        T_3K.append(data['temperature'])\n",
    "\n",
    "    elif data['channel_nr'] != 2 and data['channel_nr']==5:\n",
    "        T_3K.append(data['temperature'])\n",
    "        print(data['temperature'])\n",
    "    else: \n",
    "        T_3K=T_3K+[T_3K[-1]]\n",
    "        print('Others')\n",
    "    plt.pause(2)"
   ]
  },
  {
   "cell_type": "code",
   "execution_count": null,
   "id": "7b886d33",
   "metadata": {},
   "outputs": [],
   "source": []
  },
  {
   "cell_type": "code",
   "execution_count": 128,
   "id": "1ad82115",
   "metadata": {},
   "outputs": [
    {
     "name": "stdout",
     "output_type": "stream",
     "text": [
      "13\n",
      "13\n",
      "13\n",
      "13\n",
      "13\n",
      "13\n",
      "13\n",
      "13\n",
      "13\n",
      "13\n",
      "13\n",
      "13\n",
      "13\n",
      "13\n",
      "13\n",
      "13\n",
      "13\n",
      "13\n",
      "13\n",
      "13\n",
      "13\n",
      "13\n",
      "13\n",
      "13\n",
      "13\n",
      "13\n",
      "13\n",
      "13\n",
      "13\n",
      "13\n",
      "13\n",
      "13\n",
      "13\n",
      "13\n",
      "13\n",
      "13\n",
      "13\n",
      "13\n",
      "13\n",
      "13\n",
      "13\n",
      "13\n",
      "13\n",
      "13\n"
     ]
    },
    {
     "ename": "KeyboardInterrupt",
     "evalue": "",
     "output_type": "error",
     "traceback": [
      "\u001b[1;31m---------------------------------------------------------------------------\u001b[0m",
      "\u001b[1;31mKeyboardInterrupt\u001b[0m                         Traceback (most recent call last)",
      "Cell \u001b[1;32mIn[128], line 4\u001b[0m\n\u001b[0;32m      2\u001b[0m req\u001b[38;5;241m=\u001b[39m requests\u001b[38;5;241m.\u001b[39mget(\u001b[38;5;124m\"\u001b[39m\u001b[38;5;124mhttp://192.168.1.1:5001/channel/measurement/latest\u001b[39m\u001b[38;5;124m\"\u001b[39m, timeout\u001b[38;5;241m=\u001b[39m\u001b[38;5;241m10\u001b[39m)\n\u001b[0;32m      3\u001b[0m \u001b[38;5;28mprint\u001b[39m(\u001b[38;5;28mlen\u001b[39m(req\u001b[38;5;241m.\u001b[39mjson()))\n\u001b[1;32m----> 4\u001b[0m plt\u001b[38;5;241m.\u001b[39mpause(\u001b[38;5;241m1\u001b[39m)\n",
      "File \u001b[1;32m~\\anaconda3\\Lib\\site-packages\\matplotlib\\pyplot.py:584\u001b[0m, in \u001b[0;36mpause\u001b[1;34m(interval)\u001b[0m\n\u001b[0;32m    582\u001b[0m     canvas\u001b[38;5;241m.\u001b[39mstart_event_loop(interval)\n\u001b[0;32m    583\u001b[0m \u001b[38;5;28;01melse\u001b[39;00m:\n\u001b[1;32m--> 584\u001b[0m     time\u001b[38;5;241m.\u001b[39msleep(interval)\n",
      "\u001b[1;31mKeyboardInterrupt\u001b[0m: "
     ]
    }
   ],
   "source": [
    "while True:\n",
    "    req= requests.get(\"http://192.168.1.1:5001/channel/measurement/latest\", timeout=10)\n",
    "    print(len(req.json()))\n",
    "    plt.pause(1)"
   ]
  },
  {
   "cell_type": "code",
   "execution_count": 121,
   "id": "2f6e617b",
   "metadata": {},
   "outputs": [
    {
     "data": {
      "text/plain": [
       "[3.070993,\n",
       " 3.070993,\n",
       " 3.070993,\n",
       " 3.070993,\n",
       " 3.070993,\n",
       " 0.876598,\n",
       " 0.876598,\n",
       " 0.876598,\n",
       " 0.876598,\n",
       " 0.876598,\n",
       " 0.876598,\n",
       " 0.876598,\n",
       " 0.876598,\n",
       " 0.876598,\n",
       " 0.876598,\n",
       " 0.876598,\n",
       " 0.876598,\n",
       " 0.876598,\n",
       " 0.876598,\n",
       " 0.876598,\n",
       " 0.876598,\n",
       " 0.876598,\n",
       " 0.876598,\n",
       " 0.876598,\n",
       " 3.07044,\n",
       " 3.07044,\n",
       " 3.07044,\n",
       " 3.07044,\n",
       " 3.07044,\n",
       " 0.876469,\n",
       " 0.876469,\n",
       " 0.876469,\n",
       " 0.876469,\n",
       " 0.876469,\n",
       " 0.876469,\n",
       " 0.876469,\n",
       " 0.876469,\n",
       " 0.876469,\n",
       " 0.876469,\n",
       " 0.876469,\n",
       " 0.876469,\n",
       " 0.876469,\n",
       " 0.876469,\n",
       " 0.876469,\n",
       " 0.876469,\n",
       " 0.876469,\n",
       " 0.876469,\n",
       " 0.876469,\n",
       " 0.876673,\n",
       " 0.876673]"
      ]
     },
     "execution_count": 121,
     "metadata": {},
     "output_type": "execute_result"
    }
   ],
   "source": [
    "T_3K"
   ]
  },
  {
   "cell_type": "code",
   "execution_count": 116,
   "id": "02e25866",
   "metadata": {},
   "outputs": [
    {
     "name": "stdout",
     "output_type": "stream",
     "text": [
      "5\n",
      "5\n",
      "5\n",
      "5\n",
      "5\n",
      "6\n",
      "6\n",
      "6\n",
      "6\n",
      "6\n",
      "6\n",
      "5\n",
      "5\n",
      "5\n",
      "5\n",
      "5\n",
      "5\n",
      "5\n",
      "5\n",
      "5\n",
      "5\n",
      "5\n",
      "5\n",
      "5\n",
      "6\n",
      "6\n",
      "6\n",
      "6\n",
      "6\n",
      "2\n",
      "2\n",
      "2\n",
      "2\n",
      "2\n",
      "2\n",
      "5\n",
      "5\n",
      "5\n",
      "5\n",
      "5\n",
      "5\n",
      "5\n",
      "5\n",
      "5\n",
      "5\n",
      "5\n",
      "5\n",
      "5\n",
      "6\n",
      "6\n",
      "6\n",
      "6\n"
     ]
    },
    {
     "ename": "KeyboardInterrupt",
     "evalue": "",
     "output_type": "error",
     "traceback": [
      "\u001b[1;31m---------------------------------------------------------------------------\u001b[0m",
      "\u001b[1;31mKeyboardInterrupt\u001b[0m                         Traceback (most recent call last)",
      "Cell \u001b[1;32mIn[116], line 7\u001b[0m\n\u001b[0;32m      5\u001b[0m data \u001b[38;5;241m=\u001b[39m req\u001b[38;5;241m.\u001b[39mjson()      \n\u001b[0;32m      6\u001b[0m \u001b[38;5;28mprint\u001b[39m(data[\u001b[38;5;124m'\u001b[39m\u001b[38;5;124mchannel_nr\u001b[39m\u001b[38;5;124m'\u001b[39m])\n\u001b[1;32m----> 7\u001b[0m plt\u001b[38;5;241m.\u001b[39mpause(\u001b[38;5;241m2\u001b[39m)\n",
      "File \u001b[1;32m~\\anaconda3\\Lib\\site-packages\\matplotlib\\pyplot.py:584\u001b[0m, in \u001b[0;36mpause\u001b[1;34m(interval)\u001b[0m\n\u001b[0;32m    582\u001b[0m     canvas\u001b[38;5;241m.\u001b[39mstart_event_loop(interval)\n\u001b[0;32m    583\u001b[0m \u001b[38;5;28;01melse\u001b[39;00m:\n\u001b[1;32m--> 584\u001b[0m     time\u001b[38;5;241m.\u001b[39msleep(interval)\n",
      "\u001b[1;31mKeyboardInterrupt\u001b[0m: "
     ]
    }
   ],
   "source": [
    "import requests\n",
    "\n",
    "while True:\n",
    "    req= requests.get(\"http://192.168.1.1:5001/channel/measurement/latest\", timeout=10)\n",
    "    data = req.json()\n",
    "    \n",
    "    print(data['channel_nr'])\n",
    "    plt.pause(2)"
   ]
  },
  {
   "cell_type": "code",
   "execution_count": null,
   "id": "104556c8",
   "metadata": {},
   "outputs": [],
   "source": []
  }
 ],
 "metadata": {
  "kernelspec": {
   "display_name": "Python 3 (ipykernel)",
   "language": "python",
   "name": "python3"
  },
  "language_info": {
   "codemirror_mode": {
    "name": "ipython",
    "version": 3
   },
   "file_extension": ".py",
   "mimetype": "text/x-python",
   "name": "python",
   "nbconvert_exporter": "python",
   "pygments_lexer": "ipython3",
   "version": "3.11.4"
  }
 },
 "nbformat": 4,
 "nbformat_minor": 5
}
